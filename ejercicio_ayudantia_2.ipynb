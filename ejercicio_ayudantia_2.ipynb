{
 "cells": [
  {
   "cell_type": "markdown",
   "metadata": {},
   "source": [
    "# Ayudantía 2: Python - Pensamiento Visual\n",
    "\n",
    "En este notebook vamos a practicar contenidos de Python relacionados al procesamiento de datos. Como se señaló en la ayudantía, este procesamiento es un paso clave antes de empezar a confeccionar una visualizaión de los datos.\n",
    "\n",
    "La actividad consiste en leer y procesar una base de datos con información acerca de películas. Esta contiene el nombre de cada película, sus ventas en el fin de semana de estreno (en USD), su ganancia a nivel mundial (en USD) y su presupuesto (en miles de USD). Te recomendamos que le eches un vistazo al archivo antes de comenzar la actividad para entender los datos antes de programar.\n",
    "\n",
    "Para el desarrollo de esta actividad puedes consultar la presentación de la ayudantía, la cual contiene los comandos que tienes que utilizar"
   ]
  },
  {
   "cell_type": "markdown",
   "metadata": {},
   "source": [
    "## Ejercicio 1: Leer un archivo\n",
    "\n",
    "Lo primero que debes hacer es abrir el archivo y cargar los datos para utilizarlos posteriormente en el programa.\n",
    "\n",
    "Para verificar si se cargaron bien los datos, imprime la primera línea del archivo."
   ]
  },
  {
   "cell_type": "code",
   "execution_count": 1,
   "metadata": {
    "scrolled": true
   },
   "outputs": [
    {
     "name": "stdout",
     "output_type": "stream",
     "text": [
      "hola mati\n"
     ]
    }
   ],
   "source": [
    "# Comienza escribiendo aquí tu código\n",
    "# Abre el archivo, carga los datos e imprime la primera línea\n",
    "print(\"hola mati\")\n",
    "\n",
    "# No olvides cerrar el archivo"
   ]
  },
  {
   "cell_type": "markdown",
   "metadata": {},
   "source": [
    "**Resultado esperado**\n",
    "\n",
    "Film;Opening Weekend;Worldwide Gross;Budget"
   ]
  },
  {
   "cell_type": "markdown",
   "metadata": {},
   "source": [
    "## Ejercicio 2: Limpiar los datos\n",
    "\n",
    "Luego de cargar los datos, debemos darles un formato que nos permita elaborar la visualización. Necesitamos que tengan un formato que:\n",
    "\n",
    "* Permita ser leído por otros lenguajes de programación.\n",
    "* Hagan sentido según su contexto\n",
    "\n",
    "La base de datos que estamos utilizando contiene los siguientes errores (los que debes corregir):\n",
    "\n",
    "* La columna `Opening Weekend` contiene puntos para hacer un separación tres cifras (como es un enetero, no debería tener separaciones).\n",
    "* La columna `Worldwide Gross` contiene comas para hacer un separación tres cifras (como es un enetero, no debería tener separaciones).\n",
    "* La columna `Budget` contiene comas para separar decimales (como es un decimal,  debería estar separado por un punto ).\n",
    "\n",
    "Te recomendamos crear una lista nueva donde se vayan guardando las líneas corregidas.\n",
    "\n",
    "Para verificar si se limpiaron bien los datos, imprime la quinta línea de la base de datos (corregida)"
   ]
  },
  {
   "cell_type": "code",
   "execution_count": 4,
   "metadata": {},
   "outputs": [],
   "source": [
    "# Funciones recomendadas\n",
    "# split --> Separar una línea (string) en una lista\n",
    "# replace --> Reemplazar un caracter por otro dentro de un string\n",
    "# No olvides considerar los \\n dentro de tu código\n",
    "\n",
    "# Escribe tu código acá\n",
    "\n"
   ]
  },
  {
   "cell_type": "markdown",
   "metadata": {},
   "source": [
    "**Resultado esperado**\n",
    "\n",
    "The To-Do List;1579402;3566225;1.5"
   ]
  },
  {
   "cell_type": "markdown",
   "metadata": {},
   "source": [
    "## Ejercicio 3: Guardar los nuevos datos\n",
    "\n",
    "Ahora que tenemos los datos listos para ser visualizados, solo queda guardarlos en un archivo para su posterior uso.\n",
    "\n",
    "Crea un nuevo archivo en el que se puedan `escribir` los datos. \n",
    "\n",
    "Hay algunas líneas dentro del archivo a las que le falta un dato (aparece en blanco, un guión o \"n/a\"). Procura que estas líneas no se escriban para que no sean utilizadas en la visualización."
   ]
  },
  {
   "cell_type": "code",
   "execution_count": 5,
   "metadata": {},
   "outputs": [],
   "source": [
    "# Funciones recomendadas\n",
    "# join --> Unir los elementos de una lista en un string\n",
    "# No olvides cerrar el archivo\n",
    "\n",
    "# Escribe tu código acá\n",
    "\n",
    "\n"
   ]
  },
  {
   "cell_type": "markdown",
   "metadata": {},
   "source": [
    "**¡Felicitaciones, has terminado!**\n",
    "\n",
    "Si quieres verificar el resultado del último ejercicio, revisa el nuevo archivo y corrobora que se cumplen las condiciones especificadas más arriba.\n",
    "\n",
    "## Resumen\n",
    "\n",
    "En este ejercicio practicamos la limpieza de una base de datos, paso imprescindible a la hora de elaborar una visualización. En particular, aprendimos a:\n",
    "\n",
    "* Leer y escribir archivos.\n",
    "* Modificar strings y listas \n"
   ]
  }
 ],
 "metadata": {
  "kernelspec": {
   "display_name": "Python 3",
   "language": "python",
   "name": "python3"
  },
  "language_info": {
   "codemirror_mode": {
    "name": "ipython",
    "version": 3
   },
   "file_extension": ".py",
   "mimetype": "text/x-python",
   "name": "python",
   "nbconvert_exporter": "python",
   "pygments_lexer": "ipython3",
   "version": "3.6.5"
  }
 },
 "nbformat": 4,
 "nbformat_minor": 2
}
